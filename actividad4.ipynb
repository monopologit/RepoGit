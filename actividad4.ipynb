{
 "cells": [
  {
   "cell_type": "markdown",
   "metadata": {},
   "source": [
    "# Función para imprimir todas las tareas"
   ]
  },
  {
   "cell_type": "code",
   "execution_count": 11,
   "metadata": {},
   "outputs": [],
   "source": [
    "def imprimir_tareas(tareas):\n",
    "    for indice, tarea in enumerate(tareas):\n",
    "        print(f\"Tarea {indice + 1}:\")\n",
    "        print(f\"Nombre: {tarea['nombre']}\")\n",
    "        print(f\"Descripción: {tarea['descripcion']}\")\n",
    "        print(f\"Estado: {'Completada' if tarea['estado'] else 'Pendiente'}\")\n",
    "        print()"
   ]
  },
  {
   "cell_type": "markdown",
   "metadata": {},
   "source": [
    "# Lista para almacenar las tareas"
   ]
  },
  {
   "cell_type": "code",
   "execution_count": 12,
   "metadata": {},
   "outputs": [],
   "source": [
    "lista_tareas = []"
   ]
  },
  {
   "cell_type": "markdown",
   "metadata": {},
   "source": [
    "# Agregar tareas utilizando insert()"
   ]
  },
  {
   "cell_type": "code",
   "execution_count": 13,
   "metadata": {},
   "outputs": [],
   "source": [
    "lista_tareas.insert(0, {'nombre': 'Hacer la compra', 'descripcion': 'Comprar comida para la semana', 'estado': False})\n",
    "lista_tareas.insert(1, {'nombre': 'Estudiar para el examen', 'descripcion': 'Repasar los apuntes y hacer ejercicios', 'estado': True})\n",
    "lista_tareas.insert(2, {'nombre': 'Ir al gimnasio', 'descripcion': 'Hacer ejercicio durante una hora', 'estado': False})"
   ]
  },
  {
   "cell_type": "markdown",
   "metadata": {},
   "source": [
    "# Mostrar las tareas"
   ]
  },
  {
   "cell_type": "code",
   "execution_count": 14,
   "metadata": {},
   "outputs": [
    {
     "name": "stdout",
     "output_type": "stream",
     "text": [
      "Tareas almacenadas:\n",
      "Tarea 1:\n",
      "Nombre: Hacer la compra\n",
      "Descripción: Comprar comida para la semana\n",
      "Estado: Pendiente\n",
      "\n",
      "Tarea 2:\n",
      "Nombre: Estudiar para el examen\n",
      "Descripción: Repasar los apuntes y hacer ejercicios\n",
      "Estado: Completada\n",
      "\n",
      "Tarea 3:\n",
      "Nombre: Ir al gimnasio\n",
      "Descripción: Hacer ejercicio durante una hora\n",
      "Estado: Pendiente\n",
      "\n"
     ]
    }
   ],
   "source": [
    "print(\"Tareas almacenadas:\")\n",
    "imprimir_tareas(lista_tareas)"
   ]
  },
  {
   "cell_type": "markdown",
   "metadata": {},
   "source": [
    "# Eliminar una tarea utilizando pop()"
   ]
  },
  {
   "cell_type": "code",
   "execution_count": 15,
   "metadata": {},
   "outputs": [
    {
     "name": "stdout",
     "output_type": "stream",
     "text": [
      "Se ha eliminado la siguiente tarea: Estudiar para el examen\n"
     ]
    }
   ],
   "source": [
    "if lista_tareas:\n",
    "    tarea_eliminada = lista_tareas.pop(1)\n",
    "    print(f\"Se ha eliminado la siguiente tarea: {tarea_eliminada['nombre']}\")"
   ]
  },
  {
   "cell_type": "markdown",
   "metadata": {},
   "source": [
    "# Mostrar las tareas restantes"
   ]
  },
  {
   "cell_type": "code",
   "execution_count": 16,
   "metadata": {},
   "outputs": [
    {
     "name": "stdout",
     "output_type": "stream",
     "text": [
      "\n",
      "Tareas restantes:\n",
      "Tarea 1:\n",
      "Nombre: Hacer la compra\n",
      "Descripción: Comprar comida para la semana\n",
      "Estado: Pendiente\n",
      "\n",
      "Tarea 2:\n",
      "Nombre: Ir al gimnasio\n",
      "Descripción: Hacer ejercicio durante una hora\n",
      "Estado: Pendiente\n",
      "\n"
     ]
    }
   ],
   "source": [
    "print(\"\\nTareas restantes:\")\n",
    "imprimir_tareas(lista_tareas)"
   ]
  }
 ],
 "metadata": {
  "kernelspec": {
   "display_name": "Python 3.12.0 64-bit",
   "language": "python",
   "name": "python3"
  },
  "language_info": {
   "codemirror_mode": {
    "name": "ipython",
    "version": 3
   },
   "file_extension": ".py",
   "mimetype": "text/x-python",
   "name": "python",
   "nbconvert_exporter": "python",
   "pygments_lexer": "ipython3",
   "version": "3.12.0"
  },
  "orig_nbformat": 4,
  "vscode": {
   "interpreter": {
    "hash": "e1391ad314576473fd5b93f7d7c5ffd3d5960dd1334d7eccc3386f3fcdd0aeda"
   }
  }
 },
 "nbformat": 4,
 "nbformat_minor": 2
}
