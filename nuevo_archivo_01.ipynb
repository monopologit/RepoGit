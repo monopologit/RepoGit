{
 "cells": [
  {
   "cell_type": "markdown",
   "metadata": {},
   "source": [
    "1. Crear una lista que contenga nombres de provincias Argentinas, que contenga más de 5 elementos e imprimir por pantalla."
   ]
  },
  {
   "cell_type": "code",
   "execution_count": 2,
   "metadata": {},
   "outputs": [
    {
     "name": "stdout",
     "output_type": "stream",
     "text": [
      "['Buenos Aires', 'Tierra del Fuego', 'Mendoza', 'Jujuy', 'Salta']\n"
     ]
    }
   ],
   "source": [
    "provincias_argentinas=[\"Buenos Aires\",\"Tierra del Fuego\",\"Mendoza\",\"Jujuy\",\"Salta\"]\n",
    "print(provincias_argentinas)"
   ]
  }
 ],
 "metadata": {
  "kernelspec": {
   "display_name": "Python 3.12.0 64-bit",
   "language": "python",
   "name": "python3"
  },
  "language_info": {
   "codemirror_mode": {
    "name": "ipython",
    "version": 3
   },
   "file_extension": ".py",
   "mimetype": "text/x-python",
   "name": "python",
   "nbconvert_exporter": "python",
   "pygments_lexer": "ipython3",
   "version": "3.12.0"
  },
  "orig_nbformat": 4,
  "vscode": {
   "interpreter": {
    "hash": "e1391ad314576473fd5b93f7d7c5ffd3d5960dd1334d7eccc3386f3fcdd0aeda"
   }
  }
 },
 "nbformat": 4,
 "nbformat_minor": 2
}
