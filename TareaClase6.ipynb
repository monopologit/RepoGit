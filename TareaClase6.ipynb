{
 "cells": [
  {
   "cell_type": "markdown",
   "metadata": {},
   "source": [
    "# *PROGRAMACION II*\n",
    "## _TAREA CLASE 6_\n",
    "### INTRODUCCIÓN:\n",
    "\n",
    "Las funciones son elementos esenciales en la programación, ya que permiten modular el código, reutilizar bloques de instrucciones y mejorar la organización del programa. En este conjunto de ejercicios, como docentes de programación en Python, podrán encontrar 6 actividades prácticas para que sus estudiantes fortalezcan sus habilidades en la creación y utilización de funciones.\n",
    "\n",
    "### Objetivos:\n",
    "\n",
    "* _Fortalecer la comprensión de las funciones en Python._\n",
    "* _Desarrollar la capacidad de resolver problemas mediante la descomposición en funciones._\n",
    "* _Introducir el concepto de funciones lambda como una forma alternativa de definir funciones cortas._\n",
    "* _Fomentar el trabajo colaborativo mediante la entrega de ejercicios en un repositorio de GitHub._\n"
   ]
  },
  {
   "cell_type": "markdown",
   "metadata": {},
   "source": [
    "### *EJERCICIOS*"
   ]
  },
  {
   "cell_type": "markdown",
   "metadata": {},
   "source": [
    "### 1. Calculadora de IMC (Índice de Masa Corporal):\n",
    "\n",
    "* Cree una función que calcule el IMC (Índice de Masa Corporal) de una persona a partir de su peso y altura. La función debe recibir como parámetros el peso (en kg) y la altura (en cm) y devolver el valor del IMC. \n",
    "* Opcional: Implemente una segunda función que clasifique el IMC según los estándares de la OMS."
   ]
  },
  {
   "cell_type": "code",
   "execution_count": 13,
   "metadata": {},
   "outputs": [
    {
     "name": "stdout",
     "output_type": "stream",
     "text": [
      "\n",
      "Su IMC es: 44.44\n",
      "Clasificación: Obesidad\n"
     ]
    }
   ],
   "source": [
    "def calcular_imc(peso, altura_cm):\n",
    "    altura_m = altura_cm / 100  # Convertir altura a metros\n",
    "    imc = peso / (altura_m ** 2)  # Calcular IMC\n",
    "    return imc\n",
    "\n",
    "def clasificar_imc(imc):\n",
    "    if imc < 18.5:\n",
    "        return \"Bajo peso\"\n",
    "    elif 18.5 <= imc < 25:\n",
    "        return \"Peso normal\"\n",
    "    elif 25 <= imc < 30:\n",
    "        return \"Sobrepeso\"\n",
    "    else:\n",
    "        return \"Obesidad\"\n",
    "\n",
    "def main():\n",
    "    try:\n",
    "        peso = float(input(\"Ingrese su peso en kilogramos: \"))\n",
    "        altura = float(input(\"Ingrese su altura en centímetros: \"))\n",
    "        \n",
    "        imc = calcular_imc(peso, altura)\n",
    "        clasificacion = clasificar_imc(imc)\n",
    "        \n",
    "        print(f\"\\nSu IMC es: {imc:.2f}\")\n",
    "        print(f\"Clasificación: {clasificacion}\")\n",
    "    except ValueError:\n",
    "        print(\"Por favor, ingrese valores numéricos válidos para el peso y la altura.\")\n",
    "\n",
    "if __name__ == \"__main__\":\n",
    "    main()\n"
   ]
  },
  {
   "cell_type": "markdown",
   "metadata": {},
   "source": [
    "### Ejercicio 2: Analizador de números\n",
    "\n",
    "_Cree una función que reciba un número entero como parámetro y devuelva un diccionario con la siguiente información:_\n",
    "\n",
    "* Si el número es par o impar\n",
    "* Si el número es positivo, negativo o cero\n",
    "* Si el número es divisible por 3\n",
    "* Si el número es divisible por 5\n",
    "* Si el número es divisible por 3 y por 5\n",
    "* Opcional: Implemente la función utilizando una función lambda para cada una de las verificaciones."
   ]
  },
  {
   "cell_type": "code",
   "execution_count": 14,
   "metadata": {},
   "outputs": [
    {
     "name": "stdout",
     "output_type": "stream",
     "text": [
      "\n",
      "Análisis del número 5:\n",
      "Es impar.\n",
      "Es un número positivo.\n",
      "Es divisible por 3: No.\n",
      "Es divisible por 5: Sí.\n",
      "Es divisible por 3 y por 5: No.\n"
     ]
    }
   ],
   "source": [
    "def analizar_numero(n):\n",
    "    resultado = {\n",
    "        'par_o_impar': 'par' if n % 2 == 0 else 'impar',\n",
    "        'signo': 'positivo' if n > 0 else 'negativo' if n < 0 else 'cero',\n",
    "        'divisible_por_3': n % 3 == 0,\n",
    "        'divisible_por_5': n % 5 == 0,\n",
    "        'divisible_por_3_y_5': n % 3 == 0 and n % 5 == 0\n",
    "    }\n",
    "    return resultado\n",
    "\n",
    "def main():\n",
    "    try:\n",
    "        numero = int(input(\"Ingrese un número entero: \"))\n",
    "        analisis = analizar_numero(numero)\n",
    "        \n",
    "        print(f\"\\nAnálisis del número {numero}:\")\n",
    "        print(f\"Es {analisis['par_o_impar']}.\")\n",
    "        print(f\"Es un número {analisis['signo']}.\")\n",
    "        print(f\"Es divisible por 3: {'Sí' if analisis['divisible_por_3'] else 'No'}.\")\n",
    "        print(f\"Es divisible por 5: {'Sí' if analisis['divisible_por_5'] else 'No'}.\")\n",
    "        print(f\"Es divisible por 3 y por 5: {'Sí' if analisis['divisible_por_3_y_5'] else 'No'}.\")\n",
    "    except ValueError:\n",
    "        print(\"Por favor, ingrese un número entero válido.\")\n",
    "\n",
    "if __name__ == \"__main__\":\n",
    "    main()\n"
   ]
  },
  {
   "cell_type": "markdown",
   "metadata": {},
   "source": [
    "### *Ejercicio 3: Calculadora de área y perímetro de figuras geométricas*\n",
    "\n",
    "* Cree funciones para calcular el área y perímetro de las siguientes figuras geométricas:\n",
    "\n",
    "    - Cuadrado\n",
    "    - Triángulo (equilátero, rectángulo e isósceles)\n",
    "    - Círculo\n",
    "    - Rectángulo\n",
    "    - Cada función debe recibir las dimensiones necesarias como parámetros y devolver el valor correspondiente del área o perímetro."
   ]
  },
  {
   "cell_type": "code",
   "execution_count": 19,
   "metadata": {},
   "outputs": [
    {
     "name": "stdout",
     "output_type": "stream",
     "text": [
      "Bienvenido, soy una Calculadora de área y perímetro de figuras geométricas.\n",
      "Elije lo que deseas calcular\n",
      "1. Cuadrado\n",
      "2. Triángulo equilátero\n",
      "3. Triángulo rectángulo\n",
      "4. Triángulo isósceles\n",
      "5. Círculo\n",
      "6. Rectángulo\n",
      "7. Salir\n"
     ]
    }
   ],
   "source": [
    "import math\n",
    "\n",
    "def area_cuadrado(lado):\n",
    "    return lado ** 2\n",
    "\n",
    "def perimetro_cuadrado(lado):\n",
    "    return 4 * lado\n",
    "\n",
    "def area_triangulo_equilatero(lado):\n",
    "    return (math.sqrt(3) / 4) * lado ** 2\n",
    "\n",
    "def perimetro_triangulo_equilatero(lado):\n",
    "    return 3 * lado\n",
    "\n",
    "def area_triangulo_rectangulo(base, altura):\n",
    "    return (base * altura) / 2\n",
    "\n",
    "def perimetro_triangulo_rectangulo(base, altura):\n",
    "    hipotenusa = math.sqrt(base ** 2 + altura ** 2)\n",
    "    return base + altura + hipotenusa\n",
    "\n",
    "def area_triangulo_isosceles(base, altura):\n",
    "    return (base * altura) / 2\n",
    "\n",
    "def perimetro_triangulo_isosceles(lado_igual, base):\n",
    "    return 2 * lado_igual + base\n",
    "\n",
    "def area_circulo(radio):\n",
    "    return math.pi * radio ** 2\n",
    "\n",
    "def perimetro_circulo(radio):\n",
    "    return 2 * math.pi * radio\n",
    "\n",
    "def area_rectangulo(base, altura):\n",
    "    return base * altura\n",
    "\n",
    "def perimetro_rectangulo(base, altura):\n",
    "    return 2 * (base + altura)\n",
    "\n",
    "def main():\n",
    "    print(\"Bienvenido, soy una Calculadora de área y perímetro de figuras geométricas.\")\n",
    "    \n",
    "    while True:\n",
    "        print(\"Elije lo que deseas calcular\")\n",
    "        print(\"1. Cuadrado\")\n",
    "        print(\"2. Triángulo equilátero\")\n",
    "        print(\"3. Triángulo rectángulo\")\n",
    "        print(\"4. Triángulo isósceles\")\n",
    "        print(\"5. Círculo\")\n",
    "        print(\"6. Rectángulo\")\n",
    "        print(\"7. Salir\")\n",
    "        \n",
    "        opcion = input(\"Seleccione una opción: \")\n",
    "        \n",
    "        if opcion == '1':\n",
    "            lado = float(input(\"Ingrese el lado del cuadrado (en cm): \"))\n",
    "            print(f\"Área: {area_cuadrado(lado):.2f} cm²\")\n",
    "            print(f\"Perímetro: {perimetro_cuadrado(lado):.2f} cm\")\n",
    "        \n",
    "        elif opcion == '2':\n",
    "            lado = float(input(\"Ingrese el lado del triángulo equilátero (en cm): \"))\n",
    "            print(f\"Área: {area_triangulo_equilatero(lado):.2f} cm²\")\n",
    "            print(f\"Perímetro: {perimetro_triangulo_equilatero(lado):.2f} cm\")\n",
    "        \n",
    "        elif opcion == '3':\n",
    "            base = float(input(\"Ingrese la base del triángulo rectángulo (en cm): \"))\n",
    "            altura = float(input(\"Ingrese la altura del triángulo rectángulo (en cm): \"))\n",
    "            print(f\"Área: {area_triangulo_rectangulo(base, altura):.2f} cm²\")\n",
    "            print(f\"Perímetro: {perimetro_triangulo_rectangulo(base, altura):.2f} cm\")\n",
    "        \n",
    "        elif opcion == '4':\n",
    "            base = float(input(\"Ingrese la base del triángulo isósceles (en cm): \"))\n",
    "            altura = float(input(\"Ingrese la altura del triángulo isósceles (en cm): \"))\n",
    "            lado_igual = float(input(\"Ingrese el lado igual del triángulo isósceles (en cm): \"))\n",
    "            print(f\"Área: {area_triangulo_isosceles(base, altura):.2f} cm²\")\n",
    "            print(f\"Perímetro: {perimetro_triangulo_isosceles(lado_igual, base):.2f} cm\")\n",
    "        \n",
    "        elif opcion == '5':\n",
    "            radio = float(input(\"Ingrese el radio del círculo (en cm): \"))\n",
    "            print(f\"Área: {area_circulo(radio):.2f} cm²\")\n",
    "            print(f\"Perímetro: {perimetro_circulo(radio):.2f} cm\")\n",
    "        \n",
    "        elif opcion == '6':\n",
    "            base = float(input(\"Ingrese la base del rectángulo (en cm): \"))\n",
    "            altura = float(input(\"Ingrese la altura del rectángulo (en cm): \"))\n",
    "            print(f\"Área: {area_rectangulo(base, altura):.2f} cm²\")\n",
    "            print(f\"Perímetro: {perimetro_rectangulo(base, altura):.2f} cm\")\n",
    "        \n",
    "        elif opcion == '7':\n",
    "            print(\"Gracias por usar la calculadora. ¡Hasta luego!\")\n",
    "            break\n",
    "        \n",
    "        else:\n",
    "            print(\"Opción no válida. Por favor, seleccione una opción del 1 al 7.\")\n",
    "        \n",
    "        continuar = input(\"¿Desea realizar otra operación? (sí/no): \").lower()\n",
    "        if continuar != 'sí':\n",
    "            print(\"Gracias por usar la calculadora. ¡Hasta luego!\")\n",
    "            break\n",
    "\n",
    "if __name__ == \"__main__\":\n",
    "    main()\n"
   ]
  }
 ],
 "metadata": {
  "kernelspec": {
   "display_name": "Python 3.12.0 64-bit",
   "language": "python",
   "name": "python3"
  },
  "language_info": {
   "codemirror_mode": {
    "name": "ipython",
    "version": 3
   },
   "file_extension": ".py",
   "mimetype": "text/x-python",
   "name": "python",
   "nbconvert_exporter": "python",
   "pygments_lexer": "ipython3",
   "version": "3.12.0"
  },
  "orig_nbformat": 4,
  "vscode": {
   "interpreter": {
    "hash": "e1391ad314576473fd5b93f7d7c5ffd3d5960dd1334d7eccc3386f3fcdd0aeda"
   }
  }
 },
 "nbformat": 4,
 "nbformat_minor": 2
}
