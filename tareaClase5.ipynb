{
 "cells": [
  {
   "cell_type": "markdown",
   "metadata": {},
   "source": [
    "#Ejercicio de práctica Control de Flujo en Python. \n",
    "Deberán realizar la actividad en un archivo Jupyter Notebook. \n",
    "Y deberán entregar el link del repositorio de GitHub."
   ]
  },
  {
   "cell_type": "markdown",
   "metadata": {},
   "source": [
    "#Calculadora Simple: \n",
    "Crea un programa que solicite al usuario dos números y una operación (suma, resta, multiplicación o división). \n",
    "Luego, utilizando estructuras condicionales (if, elif, else), realiza la operación seleccionada e imprime el resultado."
   ]
  },
  {
   "cell_type": "code",
   "execution_count": 11,
   "metadata": {},
   "outputs": [
    {
     "name": "stdout",
     "output_type": "stream",
     "text": [
      "El resultado es: 2.0\n"
     ]
    }
   ],
   "source": [
    "def calculadora():\n",
    "    n1 = float(input(\"Ingresa el primer número: \"))\n",
    "    n2 = float(input(\"Ingresa el segundo número: \"))\n",
    "    operacion = input(\"Ingresa la operación (suma (s), resta (r), multiplicación (m), división (d)): \").strip().lower()\n",
    "    \n",
    "    if operacion == \"s\":\n",
    "        resultado = n1 + n2\n",
    "    elif operacion == \"r\":\n",
    "        resultado = n1 - n2\n",
    "    elif operacion == \"m\":\n",
    "        resultado = n1 * n2\n",
    "    elif operacion == \"d\":\n",
    "        if n2 != 0:\n",
    "            resultado = n1 / n2\n",
    "        else:\n",
    "            resultado = \"Error: División por cero\"\n",
    "    else:\n",
    "        resultado = \"Operación no válida\"\n",
    "    \n",
    "    print(f\"El resultado es: {resultado}\")\n",
    "\n",
    "calculadora()\n"
   ]
  },
  {
   "cell_type": "markdown",
   "metadata": {},
   "source": [
    "#Contador de Números Pares e Impares: \n",
    "Escribe un programa que recorra una lista de números del 1 al 20. \n",
    "Utilizando un bucle for, determina cuántos de estos números son pares y cuántos son impares. \n",
    "Al final, imprime la cantidad de números pares e impares."
   ]
  },
  {
   "cell_type": "code",
   "execution_count": 3,
   "metadata": {},
   "outputs": [
    {
     "name": "stdout",
     "output_type": "stream",
     "text": [
      "Cantidad de números pares: 10\n",
      "Cantidad de números impares: 10\n"
     ]
    }
   ],
   "source": [
    "def contar_pares_impares():\n",
    "    numeros = list(range(1, 21))\n",
    "    pares = 0\n",
    "    impares = 0\n",
    "    \n",
    "    for numero in numeros:\n",
    "        if numero % 2 == 0:\n",
    "            pares += 1\n",
    "        else:\n",
    "            impares += 1\n",
    "    \n",
    "    print(f\"Cantidad de números pares: {pares}\")\n",
    "    print(f\"Cantidad de números impares: {impares}\")\n",
    "\n",
    "contar_pares_impares()\n"
   ]
  },
  {
   "cell_type": "markdown",
   "metadata": {},
   "source": [
    "#Validación de Contraseña: \n",
    "Pide al usuario que ingrese una contraseña. \n",
    "Utiliza un bucle while para seguir solicitando la contraseña hasta que coincida con una contraseña predefinida (por ejemplo, \"python123\"). \n",
    "Muestra un mensaje de éxito cuando la contraseña es correcta."
   ]
  },
  {
   "cell_type": "code",
   "execution_count": 1,
   "metadata": {},
   "outputs": [],
   "source": [
    "def validar_contraseña():\n",
    "    contraseña_correcta = \"cienciadatos123#\"\n",
    "    contraseña_ingresada = \"\"\n",
    "    \n",
    "    while contraseña_ingresada != contraseña_correcta:\n",
    "        contraseña_ingresada = input(\"Ingresá la contraseña: \")\n",
    "    if contraseña_ingresada != contraseña_correcta:\n",
    "            print(\"Contraseña incorrecta. Intenta de nuevo.\")\n",
    "    print(\"Contraseña correcta. ¡Puedes acceder!\")\n",
    " \n",
    "\n",
    "validar_contraseña()\n"
   ]
  },
  {
   "cell_type": "markdown",
   "metadata": {},
   "source": [
    "#Identificador de Números Primos: \n",
    "Crea un programa que solicite al usuario un número entero. \n",
    "Utilizando un bucle for, verifica si el número es primo (es decir, solo divisible por 1 y por sí mismo). \n",
    "Imprime un mensaje indicando si el número es primo o no."
   ]
  },
  {
   "cell_type": "code",
   "execution_count": null,
   "metadata": {},
   "outputs": [],
   "source": [
    "def es_primo(numero):\n",
    "    if numero <= 1:\n",
    "        return False\n",
    "    for i in range(2, int(numero ** 0.5) + 1):\n",
    "        if numero % i == 0:\n",
    "            return False\n",
    "    return True\n",
    "\n",
    "def identificar_primo():\n",
    "    numero = int(input(\"Ingresa un número entero: \"))\n",
    "    if es_primo(numero):\n",
    "        print(f\"El número {numero} es primo.\")\n",
    "    else:\n",
    "        print(f\"El número {numero} no es primo.\")\n",
    "\n",
    "identificar_primo()\n"
   ]
  },
  {
   "cell_type": "markdown",
   "metadata": {},
   "source": [
    "#Juego de Adivinanza: \n",
    "Genera un número aleatorio entre 1 y 50. \n",
    "Pide al usuario que adivine el número. \n",
    "Utiliza un bucle while para permitir múltiples intentos. \n",
    "Da pistas al usuario si el número ingresado es demasiado alto o bajo. \n",
    "Finaliza el juego cuando el usuario adivine correctamente."
   ]
  },
  {
   "cell_type": "code",
   "execution_count": 1,
   "metadata": {},
   "outputs": [],
   "source": [
    "import random\n",
    "\n",
    "def juego_adivinanza():\n",
    "    numero_secreto = random.randint(1, 50)\n",
    "    adivinanza = None\n",
    "    \n",
    "    while adivinanza != numero_secreto:\n",
    "        adivinanza = int(input(\"Adivina el número (entre 1 y 50): \"))\n",
    "        if adivinanza < numero_secreto:\n",
    "            print(\"Demasiado bajo. Intenta de nuevo.\")\n",
    "        elif adivinanza > numero_secreto:\n",
    "            print(\"Demasiado alto. Intenta de nuevo.\")\n",
    "    \n",
    "    print(\"¡Felicidades! Adivinaste el número.\")\n",
    "\n",
    "juego_adivinanza()\n"
   ]
  },
  {
   "cell_type": "markdown",
   "metadata": {},
   "source": [
    "#Tabla de Multiplicar: \n",
    "Pide al usuario que ingrese un número entero. \n",
    "Utiliza un bucle for para imprimir la tabla de multiplicar de ese número del 1 al 10. \n",
    "Por ejemplo, si el usuario ingresa 7, el programa debe imprimir:"
   ]
  },
  {
   "cell_type": "code",
   "execution_count": null,
   "metadata": {},
   "outputs": [],
   "source": [
    "def tabla_multiplicar():\n",
    "    numero = int(input(\"Ingresa un número entero: \"))\n",
    "    \n",
    "    for i in range(1, 11):\n",
    "        print(f\"{numero} x {i} = {numero * i}\")\n",
    "\n",
    "tabla_multiplicar()\n"
   ]
  }
 ],
 "metadata": {
  "kernelspec": {
   "display_name": "Python 3.12.0 64-bit",
   "language": "python",
   "name": "python3"
  },
  "language_info": {
   "codemirror_mode": {
    "name": "ipython",
    "version": 3
   },
   "file_extension": ".py",
   "mimetype": "text/x-python",
   "name": "python",
   "nbconvert_exporter": "python",
   "pygments_lexer": "ipython3",
   "version": "3.12.0"
  },
  "orig_nbformat": 4,
  "vscode": {
   "interpreter": {
    "hash": "e1391ad314576473fd5b93f7d7c5ffd3d5960dd1334d7eccc3386f3fcdd0aeda"
   }
  }
 },
 "nbformat": 4,
 "nbformat_minor": 2
}
